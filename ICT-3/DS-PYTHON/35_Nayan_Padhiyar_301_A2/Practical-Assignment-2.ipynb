{
 "cells": [
  {
   "cell_type": "code",
   "execution_count": null,
   "metadata": {},
   "outputs": [
    {
     "name": "stdout",
     "output_type": "stream",
     "text": [
      "Fortuner has been added to the showroom.\n",
      "Swift has been added to the showroom.\n",
      "Creta has been added to the showroom.\n",
      "\n",
      "--- Car Showroom Management ---\n",
      "1. View Available Cars\n",
      "2. Display Car Details\n",
      "3. Sell a Car\n",
      "4. Buy a Car\n",
      "5. Exit\n"
     ]
    },
    {
     "name": "stdin",
     "output_type": "stream",
     "text": [
      "Enter your choice:  4\n",
      "Enter brand:  bmw\n",
      "Enter model:  m5 comp\n",
      "Enter price:  1200000\n",
      "Enter fuel type:  cng\n",
      "Enter transmission:  autometic\n",
      "Enter color:  black\n"
     ]
    },
    {
     "name": "stdout",
     "output_type": "stream",
     "text": [
      "m5 comp has been added to the showroom.\n",
      "\n",
      "--- Car Showroom Management ---\n",
      "1. View Available Cars\n",
      "2. Display Car Details\n",
      "3. Sell a Car\n",
      "4. Buy a Car\n",
      "5. Exit\n"
     ]
    },
    {
     "name": "stdin",
     "output_type": "stream",
     "text": [
      "Enter your choice:  4\n",
      "Enter brand:  farari\n",
      "Enter model:  f1\n",
      "Enter price:  1500000\n",
      "Enter fuel type:  cng\n",
      "Enter transmission:  automatic\n",
      "Enter color:  navy blue\n"
     ]
    },
    {
     "name": "stdout",
     "output_type": "stream",
     "text": [
      "f1 has been added to the showroom.\n",
      "\n",
      "--- Car Showroom Management ---\n",
      "1. View Available Cars\n",
      "2. Display Car Details\n",
      "3. Sell a Car\n",
      "4. Buy a Car\n",
      "5. Exit\n"
     ]
    },
    {
     "name": "stdin",
     "output_type": "stream",
     "text": [
      "Enter your choice:  1\n"
     ]
    },
    {
     "name": "stdout",
     "output_type": "stream",
     "text": [
      "\n",
      "--- Available Cars ---\n",
      "Toyota Fortuner - ₹150000\n",
      "Maruti Swift - ₹850000\n",
      "Hyundai Creta - ₹1600000\n",
      "bmw m5 comp - ₹1200000\n",
      "farari f1 - ₹1500000\n",
      "\n",
      "--- Car Showroom Management ---\n",
      "1. View Available Cars\n",
      "2. Display Car Details\n",
      "3. Sell a Car\n",
      "4. Buy a Car\n",
      "5. Exit\n"
     ]
    },
    {
     "name": "stdin",
     "output_type": "stream",
     "text": [
      "Enter your choice:  2\n",
      "Enter car model name:  f1\n",
      "Enter your salary:  120000\n"
     ]
    },
    {
     "name": "stdout",
     "output_type": "stream",
     "text": [
      "\n",
      "Car Details:\n",
      "Brand: farari, Model: f1, Price: ₹1500000, Fuel: cng, Transmission: automatic, Color: navy blue\n",
      "\n",
      "--- Car Showroom Management ---\n",
      "1. View Available Cars\n",
      "2. Display Car Details\n",
      "3. Sell a Car\n",
      "4. Buy a Car\n",
      "5. Exit\n"
     ]
    },
    {
     "name": "stdin",
     "output_type": "stream",
     "text": [
      "Enter your choice:  3\n",
      "Enter car model name to sell:  m5 comp\n"
     ]
    },
    {
     "name": "stdout",
     "output_type": "stream",
     "text": [
      "m5 comp has been sold.\n",
      "\n",
      "--- Car Showroom Management ---\n",
      "1. View Available Cars\n",
      "2. Display Car Details\n",
      "3. Sell a Car\n",
      "4. Buy a Car\n",
      "5. Exit\n"
     ]
    },
    {
     "name": "stdin",
     "output_type": "stream",
     "text": [
      "Enter your choice:  1\n"
     ]
    },
    {
     "name": "stdout",
     "output_type": "stream",
     "text": [
      "\n",
      "--- Available Cars ---\n",
      "Toyota Fortuner - ₹150000\n",
      "Maruti Swift - ₹850000\n",
      "Hyundai Creta - ₹1600000\n",
      "farari f1 - ₹1500000\n",
      "\n",
      "--- Car Showroom Management ---\n",
      "1. View Available Cars\n",
      "2. Display Car Details\n",
      "3. Sell a Car\n",
      "4. Buy a Car\n",
      "5. Exit\n"
     ]
    }
   ],
   "source": [
    "# Custom Exception for Salary Restriction\n",
    "class SalaryException(Exception):\n",
    "    def __init__(self, message):\n",
    "        super().__init__(message)\n",
    "\n",
    "\n",
    "# Car class\n",
    "class Car:\n",
    "    def __init__(self, brand, model, price, fuel_type, transmission, color):\n",
    "        self.brand = brand\n",
    "        self.model = model\n",
    "        self.price = price\n",
    "        self.fuel_type = fuel_type\n",
    "        self.transmission = transmission\n",
    "        self.color = color\n",
    "\n",
    "    def display_details(self):\n",
    "        return (f\"Brand: {self.brand}, Model: {self.model}, Price: ₹{self.price}, \"\n",
    "                f\"Fuel: {self.fuel_type}, Transmission: {self.transmission}, Color: {self.color}\")\n",
    "\n",
    "\n",
    "# Showroom Class\n",
    "class Showroom(Car):\n",
    "    def __init__(self):\n",
    "        self.inventory = []\n",
    "\n",
    "    # Add a car to inventory\n",
    "    def buy_car(self, car):\n",
    "        self.inventory.append(car)\n",
    "        print(f\"{car.model} has been added to the showroom.\")\n",
    "\n",
    "    # Remove a car from inventory\n",
    "    def sell_car(self, model_name):\n",
    "        for car in self.inventory:\n",
    "            if car.model == model_name:\n",
    "                self.inventory.remove(car)\n",
    "                print(f\"{model_name} has been sold.\")\n",
    "                return\n",
    "        print(\"Car not found in inventory.\")\n",
    "\n",
    "    # View all available cars\n",
    "    def view_available_cars(self):\n",
    "        if not self.inventory:\n",
    "            print(\"No cars available in the showroom.\")\n",
    "        else:\n",
    "            print(\"\\n--- Available Cars ---\")\n",
    "            for car in self.inventory:\n",
    "                print(f\"{car.brand} {car.model} - ₹{car.price}\")\n",
    "\n",
    "    # Display details of a specific car (with salary check)\n",
    "    def display_car_details(self, model_name, salary):\n",
    "        try:\n",
    "            if salary < 10000:\n",
    "                raise SalaryException(\"Access Denied! Salary below ₹1,00,000.\")\n",
    "            for car in self.inventory:\n",
    "                if car.model == model_name:\n",
    "                    print(\"\\nCar Details:\")\n",
    "                    print(car.display_details())\n",
    "                    return\n",
    "            print(\"Car not found in inventory.\")\n",
    "        except SalaryException as e:\n",
    "            print(e)\n",
    "\n",
    "\n",
    "# Menu-driven program\n",
    "def main():\n",
    "    showroom = Showroom()\n",
    "\n",
    "    # Adding some default cars\n",
    "    showroom.buy_car(Car(\"Toyota\", \"Fortuner\", 150000, \"Diesel\", \"Automatic\", \"White\"))\n",
    "    showroom.buy_car(Car(\"Maruti\", \"Swift\", 850000, \"Petrol\", \"Manual\", \"Red\"))\n",
    "    showroom.buy_car(Car(\"Hyundai\", \"Creta\", 1600000, \"Petrol\", \"Automatic\", \"Black\"))\n",
    "\n",
    "    while True:\n",
    "        print(\"\\n--- Car Showroom Management ---\")\n",
    "        print(\"1. View Available Cars\")\n",
    "        print(\"2. Display Car Details\")\n",
    "        print(\"3. Sell a Car\")\n",
    "        print(\"4. Buy a Car\")\n",
    "        print(\"5. Exit\")\n",
    "\n",
    "        choice = input(\"Enter your choice: \")\n",
    "\n",
    "        if choice == \"1\":\n",
    "            showroom.view_available_cars()\n",
    "\n",
    "        elif choice == \"2\":\n",
    "            model = input(\"Enter car model name: \")\n",
    "            salary = int(input(\"Enter your salary: \"))\n",
    "            showroom.display_car_details(model, salary)\n",
    "\n",
    "        elif choice == \"3\":\n",
    "            model = input(\"Enter car model name to sell: \")\n",
    "            showroom.sell_car(model)\n",
    "\n",
    "        elif choice == \"4\":\n",
    "            brand = input(\"Enter brand: \")\n",
    "            model = input(\"Enter model: \")\n",
    "            price = int(input(\"Enter price: \"))\n",
    "            fuel = input(\"Enter fuel type: \")\n",
    "            trans = input(\"Enter transmission: \")\n",
    "            color = input(\"Enter color: \")\n",
    "            showroom.buy_car(Car(brand, model, price, fuel, trans, color))\n",
    "\n",
    "        elif choice == \"5\":\n",
    "            print(\"Thank you for visiting the showroom!\")\n",
    "            break\n",
    "        else:\n",
    "            print(\"Invalid choice! Please try again.\")\n",
    "\n",
    "\n",
    "# Run the program\n",
    "if __name__ == \"__main__\":\n",
    "    main()"
   ]
  },
  {
   "cell_type": "code",
   "execution_count": null,
   "metadata": {},
   "outputs": [],
   "source": []
  }
 ],
 "metadata": {
  "kernelspec": {
   "display_name": "Python [conda env:base] *",
   "language": "python",
   "name": "conda-base-py"
  },
  "language_info": {
   "codemirror_mode": {
    "name": "ipython",
    "version": 3
   },
   "file_extension": ".py",
   "mimetype": "text/x-python",
   "name": "python",
   "nbconvert_exporter": "python",
   "pygments_lexer": "ipython3",
   "version": "3.13.5"
  }
 },
 "nbformat": 4,
 "nbformat_minor": 4
}
