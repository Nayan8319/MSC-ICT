{
 "cells": [
  {
   "cell_type": "code",
   "execution_count": 9,
   "metadata": {},
   "outputs": [
    {
     "name": "stdout",
     "output_type": "stream",
     "text": [
      "1000\n"
     ]
    }
   ],
   "source": [
    "# 1. Given a two integer numbers return their product and  if the product is greater\n",
    "# than 1000, then return their sum .\n",
    "def question1(a, b):\n",
    "    product = a * b\n",
    "    return product if product <= 1000 else a + b\n",
    "\n",
    "print(question1(20, 50))  # 70\n"
   ]
  },
  {
   "cell_type": "code",
   "execution_count": 2,
   "metadata": {},
   "outputs": [
    {
     "name": "stdout",
     "output_type": "stream",
     "text": [
      "Current: 0, Previous: 0, Sum: 0\n",
      "Current: 1, Previous: 0, Sum: 1\n",
      "Current: 2, Previous: 0, Sum: 2\n",
      "Current: 3, Previous: 0, Sum: 3\n",
      "Current: 4, Previous: 0, Sum: 4\n",
      "Current: 5, Previous: 0, Sum: 5\n",
      "Current: 6, Previous: 0, Sum: 6\n",
      "Current: 7, Previous: 0, Sum: 7\n",
      "Current: 8, Previous: 0, Sum: 8\n",
      "Current: 9, Previous: 0, Sum: 9\n"
     ]
    }
   ],
   "source": [
    "# 2. Given a range of first 10 numbers, Iterate from start number to the end number\n",
    "# and print the sum of the current number and previous number .\n",
    "def question2():\n",
    "    number = 0\n",
    "    for i in range(10):\n",
    "        print(f\"Current: {i}, Previous: {number}, Sum: {i + number}\")\n",
    "        prev = i\n",
    "\n",
    "question2()\n"
   ]
  },
  {
   "cell_type": "code",
   "execution_count": 8,
   "metadata": {},
   "outputs": [
    {
     "name": "stdout",
     "output_type": "stream",
     "text": [
      "Eape\n"
     ]
    }
   ],
   "source": [
    "# 3. Given a string, display only those characters which are present at an even index\n",
    "# number.\n",
    "def question3(string):\n",
    "    return string[::2]\n",
    "\n",
    "print(question3(\"Example\"))\n"
   ]
  },
  {
   "cell_type": "code",
   "execution_count": 9,
   "metadata": {
    "scrolled": true
   },
   "outputs": [
    {
     "name": "stdout",
     "output_type": "stream",
     "text": [
      "True\n"
     ]
    }
   ],
   "source": [
    "# 4. Given a list of numbers, return True if first and last number of a list is same .\n",
    "def question4(list):\n",
    "    return list[0] == list[-1]\n",
    "\n",
    "print(question4([10, 20, 30, 10]))\n"
   ]
  },
  {
   "cell_type": "code",
   "execution_count": 5,
   "metadata": {},
   "outputs": [
    {
     "name": "stdout",
     "output_type": "stream",
     "text": [
      "[2, 4, 10, 30]\n"
     ]
    }
   ],
   "source": [
    "# 5. Given a two list. Create a third list by picking an odd-index element from the first\n",
    "# list and even index elements from second.\n",
    "\n",
    "def question5(list1, list2):\n",
    "    return list1[1::2] + list2[::2]\n",
    "\n",
    "print(question5([1, 2, 3, 4], [10, 20, 30, 40]))\n"
   ]
  },
  {
   "cell_type": "code",
   "execution_count": 6,
   "metadata": {},
   "outputs": [
    {
     "name": "stdout",
     "output_type": "stream",
     "text": [
      "[1, 2, 5, 3, 4, 6, 7, 5]\n"
     ]
    }
   ],
   "source": [
    "# 6. Given an input list removes the element at index 4 and add it to the 2nd position\n",
    "# and also, at the end of the list .\n",
    "def question6(lst):\n",
    "    element = lst.pop(4)\n",
    "    lst.insert(2, element)\n",
    "    lst.append(element)\n",
    "    return lst\n",
    "\n",
    "print(question6([1, 2, 3, 4, 5, 6, 7]))\n",
    "\n"
   ]
  },
  {
   "cell_type": "code",
   "execution_count": 9,
   "metadata": {},
   "outputs": [
    {
     "name": "stdout",
     "output_type": "stream",
     "text": [
      "[[3, 2, 1], [6, 5, 4], [9, 8, 7]]\n"
     ]
    }
   ],
   "source": [
    "# 7. Given a list slice it into a 3 equal chunks and reverse each list .\n",
    "\n",
    "def question7(list):\n",
    "    chunk_size = len(list) // 3\n",
    "    return [list[i:i+chunk_size][::-1] for i in range(0, len(list), chunk_size)]\n",
    "\n",
    "print(question7([1,2,3,4,5,6,7,8,9]))\n"
   ]
  },
  {
   "cell_type": "code",
   "execution_count": 8,
   "metadata": {},
   "outputs": [
    {
     "name": "stdout",
     "output_type": "stream",
     "text": [
      "{1: 1, 2: 2, 3: 3}\n"
     ]
    }
   ],
   "source": [
    "# 8. Given a list iterate it and count the occurrence of each element and create a\n",
    "# dictionary to show the count of each element .\n",
    "from collections import Counter\n",
    "\n",
    "def question8(list):\n",
    "    return dict(Counter(list))\n",
    "\n",
    "print(question8([1, 2, 2, 3, 3, 3]))\n",
    "\n"
   ]
  },
  {
   "cell_type": "code",
   "execution_count": 13,
   "metadata": {},
   "outputs": [
    {
     "name": "stdout",
     "output_type": "stream",
     "text": [
      "{'blue', 'orange', 'yellow', 'black'}\n"
     ]
    }
   ],
   "source": [
    "# 9. Add a list of elements to a given set: {‘yellow’,’orange’} List:[blue,black] .\n",
    "\n",
    "colors = {'yellow', 'orange'}\n",
    "colors.update(['blue', 'black'])\n",
    "print(colors)\n",
    "\n"
   ]
  },
  {
   "cell_type": "code",
   "execution_count": 10,
   "metadata": {},
   "outputs": [
    {
     "name": "stdout",
     "output_type": "stream",
     "text": [
      "1\n",
      "1 2\n",
      "1 2 3\n",
      "1 2 3 4\n",
      "1 2 3 4 5\n"
     ]
    }
   ],
   "source": [
    "# 10. Print the following pattern .\n",
    "\n",
    "# 1\n",
    "# 1 2\n",
    "# 1 2 3\n",
    "# 1 2 3 4\n",
    "# 1 2 3 4 5\n",
    "\n",
    "def question10():\n",
    "    for i in range(1, 6):\n",
    "        print(\" \".join(str(j) for j in range(1, i+1)))\n",
    "\n",
    "question10()\n",
    "\n"
   ]
  },
  {
   "cell_type": "code",
   "execution_count": 10,
   "metadata": {},
   "outputs": [
    {
     "name": "stdout",
     "output_type": "stream",
     "text": [
      "55\n"
     ]
    }
   ],
   "source": [
    "# 11. calculate the sum of all number between 1 and given number .\n",
    "\n",
    "def question11(n):\n",
    "    return sum(range(1, n+1))\n",
    "\n",
    "print(question11(10))\n"
   ]
  },
  {
   "cell_type": "code",
   "execution_count": 6,
   "metadata": {},
   "outputs": [
    {
     "name": "stdout",
     "output_type": "stream",
     "text": [
      "15\n",
      "20\n",
      "30\n",
      "150\n",
      "40\n"
     ]
    }
   ],
   "source": [
    "# 12. Given a list iterate it and display numbers which are divisible by 5 and if you find\n",
    "# number greater than 150 stop the loop iteration .\n",
    "def question12(givenNo):\n",
    "    for num in givenNo:\n",
    "        if num > 150:\n",
    "            break\n",
    "        if num % 5 == 0:\n",
    "            print(num)\n",
    "\n",
    "question12([15, 20, 30, 150, 40])\n",
    "\n"
   ]
  },
  {
   "cell_type": "code",
   "execution_count": 14,
   "metadata": {},
   "outputs": [
    {
     "data": {
      "text/plain": [
       "[40, 30, 20, 10]"
      ]
     },
     "execution_count": 14,
     "metadata": {},
     "output_type": "execute_result"
    }
   ],
   "source": [
    "# 13. Reverse the following list using for loop .\n",
    "# List1 = [10,20,30,40]\n",
    "\n",
    "def question13(list):\n",
    "    list = [10, 20, 30, 40]\n",
    "    reverseList = []\n",
    "    for i in range(len(list)-1, -1, -1):\n",
    "        reverseList.append(list[i])\n",
    "    return reverseList\n",
    "\n",
    "\n",
    "question13(list)"
   ]
  },
  {
   "cell_type": "code",
   "execution_count": 24,
   "metadata": {},
   "outputs": [
    {
     "name": "stdout",
     "output_type": "stream",
     "text": [
      "Enter The Start Of Range :10\n",
      "Enter The End Of Range :20\n",
      "11\n",
      "13\n",
      "17\n",
      "19\n"
     ]
    }
   ],
   "source": [
    "# 14. Write a Python program to display all the prime numbers within a range .\n",
    "\n",
    "def question14(n):\n",
    "    if n < 2:\n",
    "        return False\n",
    "    for i in range(2, int(n**0.5)+1):\n",
    "        if n % i == 0:\n",
    "            return False\n",
    "    return True\n",
    "\n",
    "start = int(input(\"Enter The Start Of Range :\"))\n",
    "end = int(input(\"Enter The End Of Range :\"))\n",
    "\n",
    "for number in range(start,end):\n",
    "    if question14(number):\n",
    "        print(number)\n",
    "\n"
   ]
  },
  {
   "cell_type": "code",
   "execution_count": null,
   "metadata": {},
   "outputs": [],
   "source": [
    "# 15. Write a Python program for a Car Show room that sells cars of different brands of different price.\n",
    "# Consider all features of a car and develop an OOP program that has following functionalities:\n",
    "\n",
    "# 1. View the currently available cars in the showrroom\n",
    "# 2. Display details of a car\n",
    "# 3. Sell a car\n",
    "# 4. Buy a car\n",
    "\n",
    "\n",
    "class Vehicle:\n",
    "    def __init__(self, brand, model, price, year):\n",
    "        self.brand = brand\n",
    "        self.model = model\n",
    "        self.price = price\n",
    "        self.year = year\n",
    "\n",
    "    def display_basic_info(self):\n",
    "        return f\"Brand: {self.brand}, Model: {self.model}, Year: {self.year}, Price: {self.price} ₹\"\n",
    "\n",
    "\n",
    "class Car(Vehicle):\n",
    "    def __init__(self, brand, model, price, year, color, fuel_type):\n",
    "        super().__init__(brand, model, price, year) \n",
    "        self.color = color\n",
    "        self.fuel_type = fuel_type\n",
    "\n",
    "    def display_details(self):\n",
    "        return (f\"{self.display_basic_info()}, Color: {self.color}, Fuel: {self.fuel_type}\")\n",
    "\n",
    "\n",
    "# Showroom Class\n",
    "class Showroom:\n",
    "    def __init__(self):\n",
    "        self.cars = []\n",
    "\n",
    "    def view_cars(self):\n",
    "        if not self.cars:\n",
    "            print(\"No cars available in the showroom.\")\n",
    "        else:\n",
    "            print(\"\\nAvailable Cars:\")\n",
    "            for i, car in enumerate(self.cars, start=1):\n",
    "                print(f\"{i}. {car.brand} {car.model} ({car.year}) - {car.price} ₹\")\n",
    "\n",
    "    def display_car_details(self, index):\n",
    "        try:\n",
    "            car = self.cars[index]\n",
    "            print(\"\\nCar Details:\")\n",
    "            print(car.display_details())\n",
    "        except IndexError:\n",
    "            print(\"Invalid car selection! Please choose a valid index.\")\n",
    "\n",
    "    def sell_car(self, index):\n",
    "        try:\n",
    "            car = self.cars.pop(index)\n",
    "            print(f\"Car Sold: {car.brand} {car.model} ({car.year}) for {car.price} ₹\")\n",
    "        except IndexError:\n",
    "            print(\"Car not available. Invalid index!\")\n",
    "\n",
    "    def buy_car(self, car):\n",
    "        if not isinstance(car, Car):\n",
    "            raise TypeError(\"Only Car objects can be added to the showroom.\")\n",
    "        self.cars.append(car)\n",
    "        print(f\"Car Bought: {car.brand} {car.model} ({car.year}) added to showroom.\")\n",
    "\n",
    "\n",
    "if __name__ == \"__main__\":\n",
    "    showroom = Showroom()\n",
    "\n",
    "    while True:\n",
    "        print(\"\\n===== Car Showroom Menu =====\")\n",
    "        print(\"1. View Cars\")\n",
    "        print(\"2. Display Car Details\")\n",
    "        print(\"3. Buy Car\")\n",
    "        print(\"4. Sell Car\")\n",
    "        print(\"5. Exit\")\n",
    "\n",
    "        try:\n",
    "            choice = int(input(\"Enter your choice (1-5): \"))\n",
    "        except ValueError:\n",
    "            print(\"Please enter a valid number.\")\n",
    "            continue\n",
    "\n",
    "        match choice:\n",
    "            case 1:\n",
    "                showroom.view_cars()\n",
    "\n",
    "            case 2:\n",
    "                showroom.view_cars()\n",
    "                try:\n",
    "                    idx = int(input(\"Enter car index to view details: \")) - 1\n",
    "                    showroom.display_car_details(idx)\n",
    "                except ValueError:\n",
    "                    print(\"Invalid input! Enter a number.\")\n",
    "\n",
    "            case 3:\n",
    "                try:\n",
    "                    brand = input(\"Enter Car Brand: \")\n",
    "                    model = input(\"Enter Car Model: \")\n",
    "                    price = int(input(\"Enter Price (₹): \"))\n",
    "                    year = int(input(\"Enter Year: \"))\n",
    "                    color = input(\"Enter Color: \")\n",
    "                    fuel = input(\"Enter Fuel Type: \")\n",
    "\n",
    "                    new_car = Car(brand, model, price, year, color, fuel)\n",
    "                    showroom.buy_car(new_car)\n",
    "                except ValueError:\n",
    "                    print(\"Invalid input! Price and Year must be numbers.\")\n",
    "\n",
    "            case 4:\n",
    "                showroom.view_cars()\n",
    "                try:\n",
    "                    idx = int(input(\"Enter car index to sell: \")) - 1\n",
    "                    showroom.sell_car(idx)\n",
    "                except ValueError:\n",
    "                    print(\"Invalid input! Enter a number.\")\n",
    "\n",
    "            case 5:\n",
    "                print(\"Exiting Showroom. Thank you!\")\n",
    "                break\n",
    "\n",
    "            case _:\n",
    "                print(\"Invalid choice! Please select between 1 and 5.\")\n",
    "\n"
   ]
  }
 ],
 "metadata": {
  "kernelspec": {
   "display_name": "Python 3",
   "language": "python",
   "name": "python3"
  },
  "language_info": {
   "codemirror_mode": {
    "name": "ipython",
    "version": 3
   },
   "file_extension": ".py",
   "mimetype": "text/x-python",
   "name": "python",
   "nbconvert_exporter": "python",
   "pygments_lexer": "ipython3",
   "version": "3.7.6"
  }
 },
 "nbformat": 4,
 "nbformat_minor": 4
}
