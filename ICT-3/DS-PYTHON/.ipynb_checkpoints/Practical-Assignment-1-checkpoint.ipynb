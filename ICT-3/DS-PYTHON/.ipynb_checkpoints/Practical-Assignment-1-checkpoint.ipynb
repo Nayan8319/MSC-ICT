{
 "cells": [
  {
   "cell_type": "code",
   "execution_count": 9,
   "metadata": {},
   "outputs": [
    {
     "name": "stdout",
     "output_type": "stream",
     "text": [
      "1000\n"
     ]
    }
   ],
   "source": [
    "# 1. Given a two integer numbers return their product and  if the product is greater\n",
    "# than 1000, then return their sum .\n",
    "def question1(a, b):\n",
    "    product = a * b\n",
    "    return product if product <= 1000 else a + b\n",
    "\n",
    "print(question1(20, 50))  # 70\n"
   ]
  },
  {
   "cell_type": "code",
   "execution_count": 8,
   "metadata": {},
   "outputs": [
    {
     "name": "stdout",
     "output_type": "stream",
     "text": [
      "Current: 0, Previous: 0, Sum: 0\n",
      "Current: 1, Previous: 0, Sum: 1\n",
      "Current: 2, Previous: 1, Sum: 3\n",
      "Current: 3, Previous: 2, Sum: 5\n",
      "Current: 4, Previous: 3, Sum: 7\n",
      "Current: 5, Previous: 4, Sum: 9\n",
      "Current: 6, Previous: 5, Sum: 11\n",
      "Current: 7, Previous: 6, Sum: 13\n",
      "Current: 8, Previous: 7, Sum: 15\n",
      "Current: 9, Previous: 8, Sum: 17\n"
     ]
    }
   ],
   "source": [
    "# 2. Given a range of first 10 numbers, Iterate from start number to the end number\n",
    "# and print the sum of the current number and previous number .\n",
    "def question2():\n",
    "    prev = 0\n",
    "    for i in range(10):\n",
    "        print(f\"Current: {i}, Previous: {prev}, Sum: {i + prev}\")\n",
    "        prev = i\n",
    "\n",
    "question2()\n"
   ]
  },
  {
   "cell_type": "code",
   "execution_count": 10,
   "metadata": {},
   "outputs": [
    {
     "name": "stdout",
     "output_type": "stream",
     "text": [
      "PtoEape\n"
     ]
    }
   ],
   "source": [
    "# 3. Given a string, display only those characters which are present at an even index\n",
    "# number.\n",
    "def question3(s):\n",
    "    return s[::2]\n",
    "\n",
    "print(question3(\"PythonExample\"))\n"
   ]
  },
  {
   "cell_type": "code",
   "execution_count": 11,
   "metadata": {},
   "outputs": [
    {
     "name": "stdout",
     "output_type": "stream",
     "text": [
      "True\n"
     ]
    }
   ],
   "source": [
    "# 4. Given a list of numbers, return True if first and last number of a list is same .\n",
    "def question4(lst):\n",
    "    return lst[0] == lst[-1]\n",
    "\n",
    "print(question4([10, 20, 30, 10]))\n"
   ]
  },
  {
   "cell_type": "code",
   "execution_count": null,
   "metadata": {},
   "outputs": [],
   "source": [
    "# 5. Given a two list. Create a third list by picking an odd-index element from the first\n",
    "# list and even index elements from second.\n",
    "\n",
    "def question5(list1, list2):\n",
    "    return list1[1::2] + list2[::2]\n",
    "\n",
    "print(question5([1, 2, 3, 4], [10, 20, 30, 40]))\n"
   ]
  },
  {
   "cell_type": "code",
   "execution_count": null,
   "metadata": {},
   "outputs": [],
   "source": [
    "# 6. Given an input list removes the element at index 4 and add it to the 2nd position\n",
    "# and also, at the end of the list .\n",
    "def question6(lst):\n",
    "    element = lst.pop(4)\n",
    "    lst.insert(2, element)\n",
    "    lst.append(element)\n",
    "    return lst\n",
    "\n",
    "print(question6([1, 2, 3, 4, 5, 6, 7]))\n",
    "\n"
   ]
  },
  {
   "cell_type": "code",
   "execution_count": null,
   "metadata": {},
   "outputs": [],
   "source": [
    "# 7. Given a list slice it into a 3 equal chunks and reverse each list .\n",
    "\n",
    "def question7(lst):\n",
    "    chunk_size = len(lst) // 3\n",
    "    return [lst[i:i+chunk_size][::-1] for i in range(0, len(lst), chunk_size)]\n",
    "\n",
    "print(question7([1,2,3,4,5,6,7,8,9]))\n"
   ]
  },
  {
   "cell_type": "code",
   "execution_count": null,
   "metadata": {},
   "outputs": [],
   "source": [
    "# 8. Given a list iterate it and count the occurrence of each element and create a\n",
    "# dictionary to show the count of each element .\n",
    "from collections import Counter\n",
    "\n",
    "def question8(lst):\n",
    "    return dict(Counter(lst))\n",
    "\n",
    "print(question8([1, 2, 2, 3, 3, 3]))\n",
    "\n"
   ]
  },
  {
   "cell_type": "code",
   "execution_count": 13,
   "metadata": {},
   "outputs": [
    {
     "name": "stdout",
     "output_type": "stream",
     "text": [
      "{'blue', 'orange', 'yellow', 'black'}\n"
     ]
    }
   ],
   "source": [
    "# 9. Add a list of elements to a given set: {‘yellow’,’orange’} List:[blue,black] .\n",
    "\n",
    "colors = {'yellow', 'orange'}\n",
    "colors.update(['blue', 'black'])\n",
    "print(colors)\n",
    "\n"
   ]
  },
  {
   "cell_type": "code",
   "execution_count": 12,
   "metadata": {},
   "outputs": [
    {
     "name": "stdout",
     "output_type": "stream",
     "text": [
      "1\n",
      "1 2\n",
      "1 2 3\n",
      "1 2 3 4\n",
      "1 2 3 4 5\n"
     ]
    }
   ],
   "source": [
    "# 10. Print the following pattern .\n",
    "\n",
    "# 1\n",
    "# 1 2\n",
    "# 1 2 3\n",
    "# 1 2 3 4\n",
    "# 1 2 3 4 5\n",
    "def question10():\n",
    "    for i in range(1, 6):\n",
    "        print(\" \".join(str(j) for j in range(1, i+1)))\n",
    "\n",
    "question10()\n",
    "\n"
   ]
  },
  {
   "cell_type": "code",
   "execution_count": 15,
   "metadata": {},
   "outputs": [
    {
     "name": "stdout",
     "output_type": "stream",
     "text": [
      "55\n"
     ]
    }
   ],
   "source": [
    "# 11. calculate the sum of all number between 1 and given number .\n",
    "\n",
    "def question11(n):\n",
    "    return sum(range(1, n+1))\n",
    "\n",
    "print(question11(10))\n"
   ]
  },
  {
   "cell_type": "code",
   "execution_count": 19,
   "metadata": {},
   "outputs": [
    {
     "name": "stdout",
     "output_type": "stream",
     "text": [
      "10\n",
      "25\n",
      "30\n"
     ]
    }
   ],
   "source": [
    "# 12. Given a list iterate it and display numbers which are divisible by 5 and if you find\n",
    "# number greater than 150 stop the loop iteration .\n",
    "def question12(givenNo):\n",
    "    for num in givenNo:\n",
    "        if num > 150:\n",
    "            break\n",
    "        if num % 5 == 0:\n",
    "            print(num)\n",
    "\n",
    "question12([10, 25, 30, 160, 45])\n",
    "\n"
   ]
  },
  {
   "cell_type": "code",
   "execution_count": 20,
   "metadata": {},
   "outputs": [
    {
     "name": "stdout",
     "output_type": "stream",
     "text": [
      "[40, 30, 20, 10]\n"
     ]
    }
   ],
   "source": [
    "# 13. Reverse the following list using for loop .\n",
    "# List1 = [10,20,30,40]\n",
    "\n",
    "list1 = [10, 20, 30, 40]\n",
    "reversed_list = []\n",
    "for i in range(len(list1)-1, -1, -1):\n",
    "    reversed_list.append(list1[i])\n",
    "print(reversed_list)\n"
   ]
  },
  {
   "cell_type": "code",
   "execution_count": 21,
   "metadata": {},
   "outputs": [
    {
     "name": "stdout",
     "output_type": "stream",
     "text": [
      "[11, 13, 17, 19, 23, 29, 31, 37, 41, 43, 47]\n"
     ]
    }
   ],
   "source": [
    "# 14. Write a Python program to display all the prime numbers within a range .\n",
    "\n",
    "def is_prime(n):\n",
    "    if n < 2:\n",
    "        return False\n",
    "    for i in range(2, int(n**0.5)+1):\n",
    "        if n % i == 0:\n",
    "            return False\n",
    "    return True\n",
    "\n",
    "def primes_in_range(start, end):\n",
    "    return [n for n in range(start, end+1) if is_prime(n)]\n",
    "\n",
    "print(primes_in_range(10, 50))\n"
   ]
  },
  {
   "cell_type": "code",
   "execution_count": null,
   "metadata": {},
   "outputs": [],
   "source": [
    "# 15. Write a Python program for a Car Show room that sells cars of different brands of different price.\n",
    "# Consider all features of a car and develop an OOP program that has following functionalities:\n",
    "\n",
    "# 1. View the currently available cars in the showrroom\n",
    "# 2. Display details of a car\n",
    "# 3. Sell a car\n",
    "# 4. Buy a car\n",
    "\n",
    "\n",
    "\n"
   ]
  }
 ],
 "metadata": {
  "kernelspec": {
   "display_name": "Python 3",
   "language": "python",
   "name": "python3"
  },
  "language_info": {
   "codemirror_mode": {
    "name": "ipython",
    "version": 3
   },
   "file_extension": ".py",
   "mimetype": "text/x-python",
   "name": "python",
   "nbconvert_exporter": "python",
   "pygments_lexer": "ipython3",
   "version": "3.7.6"
  }
 },
 "nbformat": 4,
 "nbformat_minor": 4
}
